{
 "cells": [
  {
   "cell_type": "markdown",
   "metadata": {},
   "source": [
    "<h1>2014-2015 NBA 3-PT Shooting Analysis</h1>"
   ]
  },
  {
   "cell_type": "markdown",
   "metadata": {},
   "source": [
    "<h2>Read Data</h2>"
   ]
  },
  {
   "cell_type": "code",
   "execution_count": 1,
   "metadata": {},
   "outputs": [],
   "source": [
    "import pandas as pd\n",
    "shot_logs = pd.read_csv(\"shot_logs.csv\")"
   ]
  },
  {
   "cell_type": "markdown",
   "metadata": {},
   "source": [
    "<h2>Filter for 3pt Shots</h2>\n",
    "<p>Slim down the dataframe for only 3pt Shots</p>"
   ]
  },
  {
   "cell_type": "code",
   "execution_count": 2,
   "metadata": {},
   "outputs": [],
   "source": [
    "is3pt_shot = shot_logs[\"PTS_TYPE\"]==3\n",
    "shot_3pt_logs = shot_logs[is3pt_shot]"
   ]
  },
  {
   "cell_type": "markdown",
   "metadata": {},
   "source": [
    "<h2> Players for Analysis </h2>"
   ]
  },
  {
   "cell_type": "code",
   "execution_count": 3,
   "metadata": {
    "scrolled": true
   },
   "outputs": [],
   "source": [
    "players_file = open('players.txt', 'r')\n",
    "players = players_file.read().split(',')\n",
    "players_file.close()"
   ]
  },
  {
   "cell_type": "code",
   "execution_count": 5,
   "metadata": {},
   "outputs": [],
   "source": [
    "def checkPlayerForData(player):\n",
    "    isPlayer_shots = shot_3pt_logs['player_name']==player\n",
    "    player_shots = shot_3pt_logs[isPlayer_shots]\n",
    "    \n",
    "    if(player_shots.shape[0]>0):\n",
    "        ret = True\n",
    "    else:\n",
    "        ret = False\n",
    "    \n",
    "    return ret\n",
    "\n",
    "top_3pt_shooters = [player for player in players if checkPlayerForData(player)]"
   ]
  },
  {
   "cell_type": "markdown",
   "metadata": {},
   "source": [
    "<h2>Accumlate Player Game Stats</h2>"
   ]
  },
  {
   "cell_type": "code",
   "execution_count": 6,
   "metadata": {},
   "outputs": [],
   "source": [
    "top_3pt_shooter_df = pd.DataFrame()\n",
    "for player in top_3pt_shooters:\n",
    "    isPlayer_shots = shot_3pt_logs['player_name']== player\n",
    "    player_shots = shot_3pt_logs[isPlayer_shots]\n",
    "    top_3pt_shooter_df = top_3pt_shooter_df.append(player_shots)"
   ]
  },
  {
   "cell_type": "markdown",
   "metadata": {},
   "source": [
    "<h2>Compute 3pt Shot Percentage</h2>"
   ]
  },
  {
   "cell_type": "code",
   "execution_count": 11,
   "metadata": {},
   "outputs": [],
   "source": [
    "shot_pct_3pt_dict = {}\n",
    "close_def_dist_avg_dict = {}\n",
    "\n",
    "for player in top_3pt_shooters:\n",
    "    isPlayer_shots = shot_3pt_logs['player_name']==player\n",
    "    player_shots = shot_3pt_logs[isPlayer_shots]\n",
    "    \n",
    "    #3pt shooting pct calculation\n",
    "    isMade_shot = player_shots['SHOT_RESULT']=='made'\n",
    "    made_shot_df = player_shots[isMade_shot]\n",
    "    \n",
    "    fg_attempted = player_shots.shape[0]\n",
    "    fg_made = made_shot_df.shape[0]\n",
    "    \n",
    "    shot_pct_3pt_dict[player] = (round(fg_made/fg_attempted,3))\n",
    "    \n",
    "    \n",
    "    #avg defender distance calculation\n",
    "    cumulative_def_dist = player_shots['CLOSE_DEF_DIST'].sum()\n",
    "    \n",
    "    close_def_dist_avg_dict[player] = (round(cumulative_def_dist/fg_attempted, 3))\n",
    "    \n",
    "\n",
    "#Note: These 3pt percentages are different than the ones listed on baseketball-refernce.com. Suggests that the dataset is incomplete"
   ]
  },
  {
   "cell_type": "markdown",
   "metadata": {},
   "source": [
    "<h2>Calculate League Averages</h2>"
   ]
  },
  {
   "cell_type": "code",
   "execution_count": 8,
   "metadata": {},
   "outputs": [
    {
     "output_type": "stream",
     "name": "stdout",
     "text": [
      "league_avg_3pt_pct: 0.352\nleague_avg_dist_def: 6.026\n"
     ]
    }
   ],
   "source": [
    "league_isMade_shot = shot_3pt_logs['SHOT_RESULT']=='made'\n",
    "league_made_shot_df = shot_3pt_logs[league_isMade_shot]\n",
    "\n",
    "league_avg_3pt_pct = round(league_made_shot_df.count()[13]/shot_3pt_logs.shape[0],3)\n",
    "shot_pct_3pt_dict['league'] = league_avg_3pt_pct\n",
    "\n",
    "\n",
    "league_avg_dist_def = round(shot_3pt_logs[\"CLOSE_DEF_DIST\"].sum()/shot_3pt_logs.shape[0],3)\n",
    "close_def_dist_avg_dict['league'] = league_avg_dist_def\n",
    "\n",
    "print(\"league_avg_3pt_pct:\", league_avg_3pt_pct)\n",
    "print(\"league_avg_dist_def:\", league_avg_dist_def)\n"
   ]
  },
  {
   "cell_type": "markdown",
   "metadata": {},
   "source": [
    "<h2>Graph the Results</h2>"
   ]
  },
  {
   "cell_type": "code",
   "execution_count": 1,
   "metadata": {},
   "outputs": [
    {
     "output_type": "error",
     "ename": "NameError",
     "evalue": "name 'close_def_dist_avg_dict' is not defined",
     "traceback": [
      "\u001b[0;31m---------------------------------------------------------------------------\u001b[0m",
      "\u001b[0;31mNameError\u001b[0m                                 Traceback (most recent call last)",
      "\u001b[0;32m<ipython-input-1-b9041dd00a4d>\u001b[0m in \u001b[0;36m<module>\u001b[0;34m()\u001b[0m\n\u001b[1;32m      3\u001b[0m \u001b[0;34m\u001b[0m\u001b[0m\n\u001b[1;32m      4\u001b[0m \u001b[0;31m#dict.keys returns the keys in the order that they were added to the dict.\u001b[0m\u001b[0;34m\u001b[0m\u001b[0;34m\u001b[0m\u001b[0;34m\u001b[0m\u001b[0m\n\u001b[0;32m----> 5\u001b[0;31m \u001b[0mx\u001b[0m \u001b[0;34m=\u001b[0m \u001b[0;34m[\u001b[0m\u001b[0mclose_def_dist_avg_dict\u001b[0m\u001b[0;34m[\u001b[0m\u001b[0mkey\u001b[0m\u001b[0;34m]\u001b[0m \u001b[0;32mfor\u001b[0m \u001b[0mkey\u001b[0m \u001b[0;32min\u001b[0m \u001b[0mclose_def_dist_avg_dict\u001b[0m\u001b[0;34m.\u001b[0m\u001b[0mkeys\u001b[0m\u001b[0;34m(\u001b[0m\u001b[0;34m)\u001b[0m\u001b[0;34m]\u001b[0m\u001b[0;34m\u001b[0m\u001b[0;34m\u001b[0m\u001b[0m\n\u001b[0m\u001b[1;32m      6\u001b[0m \u001b[0my\u001b[0m \u001b[0;34m=\u001b[0m \u001b[0;34m[\u001b[0m\u001b[0mshot_pct_3pt_dict\u001b[0m\u001b[0;34m[\u001b[0m\u001b[0mkey\u001b[0m\u001b[0;34m]\u001b[0m \u001b[0;32mfor\u001b[0m \u001b[0mkey\u001b[0m \u001b[0;32min\u001b[0m \u001b[0mshot_pct_3pt_dict\u001b[0m\u001b[0;34m.\u001b[0m\u001b[0mkeys\u001b[0m\u001b[0;34m(\u001b[0m\u001b[0;34m)\u001b[0m\u001b[0;34m]\u001b[0m\u001b[0;34m\u001b[0m\u001b[0;34m\u001b[0m\u001b[0m\n\u001b[1;32m      7\u001b[0m \u001b[0;34m\u001b[0m\u001b[0m\n",
      "\u001b[0;31mNameError\u001b[0m: name 'close_def_dist_avg_dict' is not defined"
     ]
    }
   ],
   "source": [
    "import matplotlib.pyplot as plt\n",
    "%matplotlib inline\n",
    "\n",
    "#dict.keys returns the keys in the order that they were added to the dict.\n",
    "x = [close_def_dist_avg_dict[key] for key in close_def_dist_avg_dict.keys()]\n",
    "y = [shot_pct_3pt_dict[key] for key in shot_pct_3pt_dict.keys()]\n",
    "\n",
    "count = 0\n",
    "plt.scatter(x[:15],y[:15],marker='o', color = \"gold\", label='Top 15 Shooter')\n",
    "plt.scatter(x[15:],y[15:],marker='o',color='blue', label=\"Rest of the League\")\n",
    "\n",
    "#Annotations\n",
    "plt.axvline(x[-1], color='red',linestyle='dashed')\n",
    "\n",
    "plt.annotate('League Average', xy=(x[-1],y[-1]), xytext=((x[-1]+.02),(y[-1]+.005)), color='red')\n",
    "\n",
    "plt.xlabel(\"Closest Defender Avg Distance\")\n",
    "plt.ylabel(\"3pt Shooting Avg\")\n",
    "#Legend\n",
    "plt.legend()\n",
    "plt.show()"
   ]
  },
  {
   "cell_type": "markdown",
   "metadata": {},
   "source": [
    "<h2>Discussion</h2>"
   ]
  },
  {
   "source": [
    "One thing that we should notice when looking at our resulting graph is the are blue points which appear above some of gold points. This should be impossible to occur since this would suggest that one of the blue points is would in fact be a Top 15 Shooter. This could be explained by our inital dataset being incomplete and missing some data. I assume this to be true since the Top 15 shooter list was taken from \"basketball-reference.com\" a reliable source on the subject. <br> <br>\n",
    "Some other important points to note are two outliers that we see in the graph representation of our data. The first is the most vertical gold point. This point which appears to have almost .05 shooting pct better than anyone else is in fact Kyle Korver. In the 2014-15 season, Kyle Korver's 3pt shooting percentage was the 9th best of all time (basketball-reference.com). Even more impressively his 3pt shot attempts had less than the average amount of defenseive distance per shot than the average 3pt shot attmept in the league. <br> <br>\n",
    "The last point of discussion is the most horizontal point which appears to be an outlier in terms of the average distance of the closest defender during his 3pt shot attempt. This player is Harrison Barnes and in the following year both his 3pt Field Goal percetage dropped as did his number of attempts. This might imply that in the following year teams began to defend him closer to the league average and as a result his stats dropped. A possible reason for why he was not guarded as closely as the league average is that two of the other top 15 shooters in the league where his teammates: Steph Curry and Klay Thompson."
   ],
   "cell_type": "markdown",
   "metadata": {}
  },
  {
   "cell_type": "code",
   "execution_count": null,
   "metadata": {},
   "outputs": [],
   "source": []
  }
 ],
 "metadata": {
  "kernelspec": {
   "display_name": "Python 3",
   "language": "python",
   "name": "python3"
  },
  "language_info": {
   "codemirror_mode": {
    "name": "ipython",
    "version": 3
   },
   "file_extension": ".py",
   "mimetype": "text/x-python",
   "name": "python",
   "nbconvert_exporter": "python",
   "pygments_lexer": "ipython3",
   "version": "3.7.2-final"
  }
 },
 "nbformat": 4,
 "nbformat_minor": 2
}